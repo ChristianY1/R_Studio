{
 "cells": [
  {
   "cell_type": "markdown",
   "id": "433f83c0-ca5d-45e0-ba0a-55152eeeb821",
   "metadata": {},
   "source": [
    "<h1>Tutorial R</h1>"
   ]
  },
  {
   "cell_type": "markdown",
   "id": "e3d1eb5e-a05e-4b10-843e-72125b3727cd",
   "metadata": {
    "tags": []
   },
   "source": [
    "<h2>Funciones</h2>\n"
   ]
  },
  {
   "cell_type": "markdown",
   "id": "045581a6-096a-4392-89db-843c78bb93e4",
   "metadata": {},
   "source": [
    "<p>Función que eleve un número al cuadrado</p>"
   ]
  },
  {
   "cell_type": "code",
   "execution_count": 56,
   "id": "9b65fdf9-1d9d-4ebd-96e1-efe3b286e3dd",
   "metadata": {
    "tags": [],
    "vscode": {
     "languageId": "r"
    }
   },
   "outputs": [
    {
     "data": {
      "text/html": [
       "100"
      ],
      "text/latex": [
       "100"
      ],
      "text/markdown": [
       "100"
      ],
      "text/plain": [
       "[1] 100"
      ]
     },
     "metadata": {},
     "output_type": "display_data"
    },
    {
     "data": {
      "text/html": [
       "4"
      ],
      "text/latex": [
       "4"
      ],
      "text/markdown": [
       "4"
      ],
      "text/plain": [
       "[1] 4"
      ]
     },
     "metadata": {},
     "output_type": "display_data"
    }
   ],
   "source": [
    "cuadrado <- function(num){\n",
    "    return(num**2)\n",
    "}\n",
    "\n",
    "cuadrado(10)\n",
    "cuadrado(-2)"
   ]
  },
  {
   "cell_type": "markdown",
   "id": "473537b5-b3ee-40af-b75d-774f7546f51a",
   "metadata": {},
   "source": [
    "<p>Función que eleve un número a un exponente</p>\n",
    "\n",
    "<p>Al llamar la función también podemos escribir los nombres de los \n",
    "   parámetros para poder ingresar las entradas</p>"
   ]
  },
  {
   "cell_type": "code",
   "execution_count": 57,
   "id": "7fb23fae-0c3f-4bf7-9ca2-817c386ba2c6",
   "metadata": {
    "tags": [],
    "vscode": {
     "languageId": "r"
    }
   },
   "outputs": [
    {
     "data": {
      "text/html": [
       "8"
      ],
      "text/latex": [
       "8"
      ],
      "text/markdown": [
       "8"
      ],
      "text/plain": [
       "[1] 8"
      ]
     },
     "metadata": {},
     "output_type": "display_data"
    },
    {
     "data": {
      "text/html": [
       "81"
      ],
      "text/latex": [
       "81"
      ],
      "text/markdown": [
       "81"
      ],
      "text/plain": [
       "[1] 81"
      ]
     },
     "metadata": {},
     "output_type": "display_data"
    }
   ],
   "source": [
    "exponente <- function(num, exp){\n",
    "    return(num**exp)\n",
    "}\n",
    "\n",
    "exponente(2,3)\n",
    "exponente(num = -3, exp = 4) "
   ]
  },
  {
   "cell_type": "markdown",
   "id": "6c4550c2-8f34-4575-b9ed-3bfff3d7ef15",
   "metadata": {},
   "source": [
    "<p>También podemos escribir valores por defecto en nuestras funciones de R</p>"
   ]
  },
  {
   "cell_type": "code",
   "execution_count": 131,
   "id": "4b056b36-9b52-434f-a59a-3b7655637c10",
   "metadata": {
    "tags": [],
    "vscode": {
     "languageId": "r"
    }
   },
   "outputs": [
    {
     "data": {
      "text/html": [
       "16"
      ],
      "text/latex": [
       "16"
      ],
      "text/markdown": [
       "16"
      ],
      "text/plain": [
       "[1] 16"
      ]
     },
     "metadata": {},
     "output_type": "display_data"
    }
   ],
   "source": [
    "exponente <- function(num, exp = 2){\n",
    "    return(num**exp)\n",
    "}\n",
    "exponente(4)"
   ]
  },
  {
   "cell_type": "markdown",
   "id": "c56180c3-2c5b-40b9-8992-6b86a5bce95b",
   "metadata": {},
   "source": [
    "<p>Función que convierte de celcius a fahrenheit</p>\n",
    "<p>\n",
    "\\[\n",
    "F = \\frac{9}{5}C + 32\n",
    "\\]\n",
    "</p>"
   ]
  },
  {
   "cell_type": "code",
   "execution_count": 59,
   "id": "6a8ee3ba-c4dc-4ca1-96eb-85b3d25ac393",
   "metadata": {
    "tags": [],
    "vscode": {
     "languageId": "r"
    }
   },
   "outputs": [
    {
     "data": {
      "text/html": [
       "100.4"
      ],
      "text/latex": [
       "100.4"
      ],
      "text/markdown": [
       "100.4"
      ],
      "text/plain": [
       "[1] 100.4"
      ]
     },
     "metadata": {},
     "output_type": "display_data"
    },
    {
     "data": {
      "text/html": [
       "95"
      ],
      "text/latex": [
       "95"
      ],
      "text/markdown": [
       "95"
      ],
      "text/plain": [
       "[1] 95"
      ]
     },
     "metadata": {},
     "output_type": "display_data"
    },
    {
     "data": {
      "text/html": [
       "32"
      ],
      "text/latex": [
       "32"
      ],
      "text/markdown": [
       "32"
      ],
      "text/plain": [
       "[1] 32"
      ]
     },
     "metadata": {},
     "output_type": "display_data"
    },
    {
     "data": {
      "text/html": [
       "77"
      ],
      "text/latex": [
       "77"
      ],
      "text/markdown": [
       "77"
      ],
      "text/plain": [
       "[1] 77"
      ]
     },
     "metadata": {},
     "output_type": "display_data"
    },
    {
     "data": {
      "text/html": [
       "50"
      ],
      "text/latex": [
       "50"
      ],
      "text/markdown": [
       "50"
      ],
      "text/plain": [
       "[1] 50"
      ]
     },
     "metadata": {},
     "output_type": "display_data"
    }
   ],
   "source": [
    "convertToFahrenheit <- function(celcius){\n",
    "    calculate <- (9/5*celcius) + 32\n",
    "    return(calculate)\n",
    "}\n",
    "\n",
    "convertToFahrenheit(38)\n",
    "convertToFahrenheit(35)\n",
    "convertToFahrenheit(0)\n",
    "convertToFahrenheit(25)\n",
    "convertToFahrenheit(10)"
   ]
  },
  {
   "cell_type": "markdown",
   "id": "3ba181e6-f25f-4b53-8ae2-751c933d479f",
   "metadata": {},
   "source": [
    "<p>Función que genere un código que regrese TRUE si usuario cumple con todo lo siguiente \n",
    "y FALSE en caso contrario:</p>\n",
    "\n",
    "<ul>\n",
    "    <li>El número de caracteres es menor a 10</li>\n",
    "    <li>No contiene la palabra RIOT</li>\n",
    "    <li>El hombre de usuario no es ni ELVaipa ni Ixtil</li>\n",
    "</ul>"
   ]
  },
  {
   "cell_type": "code",
   "execution_count": 139,
   "id": "31ef6ac5-de63-4912-9634-8a79ff79131a",
   "metadata": {
    "tags": [],
    "vscode": {
     "languageId": "r"
    }
   },
   "outputs": [
    {
     "data": {
      "text/html": [
       "FALSE"
      ],
      "text/latex": [
       "FALSE"
      ],
      "text/markdown": [
       "FALSE"
      ],
      "text/plain": [
       "[1] FALSE"
      ]
     },
     "metadata": {},
     "output_type": "display_data"
    },
    {
     "data": {
      "text/html": [
       "FALSE"
      ],
      "text/latex": [
       "FALSE"
      ],
      "text/markdown": [
       "FALSE"
      ],
      "text/plain": [
       "[1] FALSE"
      ]
     },
     "metadata": {},
     "output_type": "display_data"
    },
    {
     "data": {
      "text/html": [
       "TRUE"
      ],
      "text/latex": [
       "TRUE"
      ],
      "text/markdown": [
       "TRUE"
      ],
      "text/plain": [
       "[1] TRUE"
      ]
     },
     "metadata": {},
     "output_type": "display_data"
    },
    {
     "data": {
      "text/html": [
       "TRUE"
      ],
      "text/latex": [
       "TRUE"
      ],
      "text/markdown": [
       "TRUE"
      ],
      "text/plain": [
       "[1] TRUE"
      ]
     },
     "metadata": {},
     "output_type": "display_data"
    },
    {
     "data": {
      "text/html": [
       "FALSE"
      ],
      "text/latex": [
       "FALSE"
      ],
      "text/markdown": [
       "FALSE"
      ],
      "text/plain": [
       "[1] FALSE"
      ]
     },
     "metadata": {},
     "output_type": "display_data"
    },
    {
     "data": {
      "text/html": [
       "FALSE"
      ],
      "text/latex": [
       "FALSE"
      ],
      "text/markdown": [
       "FALSE"
      ],
      "text/plain": [
       "[1] FALSE"
      ]
     },
     "metadata": {},
     "output_type": "display_data"
    }
   ],
   "source": [
    "validarUsuario <- function(usuario){\n",
    "    value <- nchar(usuario)< 10 & \n",
    "             !grepl('RIOT', usuario) & \n",
    "             usuario != 'ELVaipa' &\n",
    "             usuario != 'Ixtil'\n",
    "    \n",
    "    return (value)\n",
    "}\n",
    "\n",
    "validarUsuario('RIOT Mictlan')\n",
    "validarUsuario('Mitclantecuhtli')\n",
    "validarUsuario('ElJOJO')\n",
    "validarUsuario('Venedith')\n",
    "validarUsuario('BbsitaBblin')\n",
    "validarUsuario('RIOT Falcon')"
   ]
  },
  {
   "cell_type": "markdown",
   "id": "0d9711a7-50b3-4480-93a4-2a5c287a6b60",
   "metadata": {
    "tags": []
   },
   "source": [
    "<p>Función imprime el siguiente color del semáforo</p>"
   ]
  },
  {
   "cell_type": "code",
   "execution_count": 20,
   "id": "a58aea3f-b7e4-48be-8e3e-886900101cab",
   "metadata": {
    "tags": [],
    "vscode": {
     "languageId": "r"
    }
   },
   "outputs": [
    {
     "data": {
      "text/html": [
       "'amarillo'"
      ],
      "text/latex": [
       "'amarillo'"
      ],
      "text/markdown": [
       "'amarillo'"
      ],
      "text/plain": [
       "[1] \"amarillo\""
      ]
     },
     "metadata": {},
     "output_type": "display_data"
    },
    {
     "data": {
      "text/html": [
       "'rojo'"
      ],
      "text/latex": [
       "'rojo'"
      ],
      "text/markdown": [
       "'rojo'"
      ],
      "text/plain": [
       "[1] \"rojo\""
      ]
     },
     "metadata": {},
     "output_type": "display_data"
    },
    {
     "data": {
      "text/html": [
       "'verde'"
      ],
      "text/latex": [
       "'verde'"
      ],
      "text/markdown": [
       "'verde'"
      ],
      "text/plain": [
       "[1] \"verde\""
      ]
     },
     "metadata": {},
     "output_type": "display_data"
    }
   ],
   "source": [
    "semaforo  <- c('verde', 'amarillo', 'rojo')\n",
    "nextIndex <- 1\n",
    "\n",
    "nextColor <- function(color){\n",
    "    if (!(color == 'rojo')){\n",
    "        nextIndex <- which(semaforo==color) + 1\n",
    "    }   \n",
    "    return (semaforo[nextIndex])\n",
    "}\n",
    "\n",
    "nextColor('verde')\n",
    "nextColor('amarillo')\n",
    "nextColor('rojo')\n",
    "\n",
    "\n"
   ]
  },
  {
   "cell_type": "markdown",
   "id": "8990d7da-f1c9-4bd6-b1a7-fef67c200b2f",
   "metadata": {
    "tags": []
   },
   "source": [
    "<h3>Manejo de excepciones</h3>\n",
    "<p>Para el manejo de exepciones usamos stop('aqui el mensaje') considerando el ejemplo anterior si el usuario ingresa un color difertente a los 3 mencionados una exepcion para este codigo es el siguiente:</p>"
   ]
  },
  {
   "cell_type": "code",
   "execution_count": 75,
   "id": "69170d06-bf38-4dd0-8c0d-82b5c2b9d311",
   "metadata": {
    "tags": [],
    "vscode": {
     "languageId": "r"
    }
   },
   "outputs": [
    {
     "ename": "ERROR",
     "evalue": "Error in nextColor(\"morado\"): Color inválido\n",
     "output_type": "error",
     "traceback": [
      "Error in nextColor(\"morado\"): Color inválido\nTraceback:\n",
      "1. nextColor(\"morado\")",
      "2. stop(\"Color inválido\")   # at line 6 of file <text>"
     ]
    }
   ],
   "source": [
    "semaforo  <- c('verde', 'amarillo', 'rojo')\n",
    "nextIndex <- 1\n",
    "\n",
    "nextColor <- function(color){\n",
    "    if(!is.null(semaforo[nextIndex])){\n",
    "        stop('Color inválido')\n",
    "    }\n",
    "    \n",
    "    if (!(color == 'rojo')){\n",
    "        nextIndex <- which(semaforo==color) + 1\n",
    "    }  \n",
    "    \n",
    "    return (semaforo[nextIndex])\n",
    "}\n",
    "\n",
    "nextColor('morado')\n",
    "\n"
   ]
  },
  {
   "cell_type": "markdown",
   "id": "64376059-d9e1-4051-8565-dcc799b77979",
   "metadata": {},
   "source": [
    "<h3>Ejercicio</h3>\n",
    "<p>Realizar una funcion que cuente las vocales ya sean mayúsculas o minúsculas, al recibir una cadena </p>"
   ]
  },
  {
   "cell_type": "code",
   "execution_count": 1,
   "id": "024efcfa-46ec-4bb2-bd5a-0c4702acb7d0",
   "metadata": {
    "tags": [],
    "vscode": {
     "languageId": "r"
    }
   },
   "outputs": [
    {
     "data": {
      "text/html": [
       "6"
      ],
      "text/latex": [
       "6"
      ],
      "text/markdown": [
       "6"
      ],
      "text/plain": [
       "[1] 6"
      ]
     },
     "metadata": {},
     "output_type": "display_data"
    },
    {
     "data": {
      "text/html": [
       "4"
      ],
      "text/latex": [
       "4"
      ],
      "text/markdown": [
       "4"
      ],
      "text/plain": [
       "[1] 4"
      ]
     },
     "metadata": {},
     "output_type": "display_data"
    },
    {
     "data": {
      "text/html": [
       "5"
      ],
      "text/latex": [
       "5"
      ],
      "text/markdown": [
       "5"
      ],
      "text/plain": [
       "[1] 5"
      ]
     },
     "metadata": {},
     "output_type": "display_data"
    },
    {
     "data": {
      "text/html": [
       "1"
      ],
      "text/latex": [
       "1"
      ],
      "text/markdown": [
       "1"
      ],
      "text/plain": [
       "[1] 1"
      ]
     },
     "metadata": {},
     "output_type": "display_data"
    }
   ],
   "source": [
    "vocales <- c('a', 'e', 'i', 'o', 'u')\n",
    "\n",
    "cuentaVocales <- function(cadena){\n",
    "    cadena <- tolower(cadena)\n",
    "    arrayCadena <- strsplit(cadena, '')[[1]]\n",
    "    cantidadVocales <- sum(arrayCadena %in% vocales)\n",
    "    return (cantidadVocales)\n",
    "}\n",
    "\n",
    "cuentaVocales('Machine Learning')\n",
    "cuentaVocales('Hola mundo')\n",
    "cuentaVocales('PROGRAMACION')\n",
    "cuentaVocales('Python')\n",
    "\n"
   ]
  }
 ],
 "metadata": {
  "kernelspec": {
   "display_name": "R",
   "language": "R",
   "name": "ir"
  },
  "language_info": {
   "codemirror_mode": "r",
   "file_extension": ".r",
   "mimetype": "text/x-r-source",
   "name": "R",
   "pygments_lexer": "r",
   "version": "4.3.1"
  }
 },
 "nbformat": 4,
 "nbformat_minor": 5
}
